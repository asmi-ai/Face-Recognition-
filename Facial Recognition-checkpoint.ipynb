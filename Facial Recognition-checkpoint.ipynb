{
 "cells": [
  {
   "cell_type": "code",
   "execution_count": 1,
   "id": "cb6bd15a",
   "metadata": {},
   "outputs": [],
   "source": [
    "#specifying the folder where images are present"
   ]
  },
  {
   "cell_type": "code",
   "execution_count": 2,
   "id": "8323cbe5",
   "metadata": {},
   "outputs": [],
   "source": [
    "TrainingImagePath = \"C:\\\\Users\\\\hp\\\\Desktop\\\\IMAGE BASICS\\\\train\""
   ]
  },
  {
   "cell_type": "code",
   "execution_count": 3,
   "id": "da596b09",
   "metadata": {},
   "outputs": [],
   "source": [
    "validationImagePath = \"C:\\\\Users\\\\hp\\\\Desktop\\\\IMAGE BASICS\\\\validation\""
   ]
  },
  {
   "cell_type": "code",
   "execution_count": 4,
   "id": "0b3a86e5",
   "metadata": {},
   "outputs": [],
   "source": [
    "from keras.preprocessing.image import ImageDataGenerator"
   ]
  },
  {
   "cell_type": "code",
   "execution_count": 5,
   "id": "093f4fd0",
   "metadata": {},
   "outputs": [],
   "source": [
    "#base model"
   ]
  },
  {
   "cell_type": "code",
   "execution_count": 6,
   "id": "13be2a8a",
   "metadata": {},
   "outputs": [],
   "source": [
    "train_datagen = ImageDataGenerator(rescale = 1./225)"
   ]
  },
  {
   "cell_type": "code",
   "execution_count": 7,
   "id": "2c1a367d",
   "metadata": {},
   "outputs": [],
   "source": [
    "test_datagen = ImageDataGenerator(rescale = 1./225)"
   ]
  },
  {
   "cell_type": "code",
   "execution_count": 8,
   "id": "b3ee156d",
   "metadata": {},
   "outputs": [],
   "source": [
    "#Generating the training data"
   ]
  },
  {
   "cell_type": "code",
   "execution_count": 9,
   "id": "dfa42c58",
   "metadata": {},
   "outputs": [
    {
     "name": "stdout",
     "output_type": "stream",
     "text": [
      "Found 200 images belonging to 25 classes.\n"
     ]
    }
   ],
   "source": [
    "training_set = train_datagen.flow_from_directory(TrainingImagePath,\n",
    "                                                target_size = (64,64),\n",
    "                                                batch_size = 20,\n",
    "                                                class_mode = 'categorical')"
   ]
  },
  {
   "cell_type": "markdown",
   "id": "2c15810a",
   "metadata": {},
   "source": [
    "# Validation set"
   ]
  },
  {
   "cell_type": "code",
   "execution_count": 10,
   "id": "fd5caa5e",
   "metadata": {},
   "outputs": [],
   "source": [
    "#Generating the validation data"
   ]
  },
  {
   "cell_type": "code",
   "execution_count": 11,
   "id": "3cc075fc",
   "metadata": {},
   "outputs": [
    {
     "name": "stdout",
     "output_type": "stream",
     "text": [
      "Found 50 images belonging to 25 classes.\n"
     ]
    }
   ],
   "source": [
    "validation_set = test_datagen.flow_from_directory(validationImagePath,\n",
    "                                                target_size = (64,64),\n",
    "                                                batch_size = 20,\n",
    "                                                class_mode = 'categorical')"
   ]
  },
  {
   "cell_type": "code",
   "execution_count": 12,
   "id": "2449158c",
   "metadata": {},
   "outputs": [],
   "source": [
    "# Libraries and model type"
   ]
  },
  {
   "cell_type": "code",
   "execution_count": 13,
   "id": "1876bc63",
   "metadata": {},
   "outputs": [],
   "source": [
    "# Create CNN Deep learning model"
   ]
  },
  {
   "cell_type": "code",
   "execution_count": 14,
   "id": "ece0fe30",
   "metadata": {},
   "outputs": [],
   "source": [
    "from keras.models import Sequential\n",
    "from keras.layers import Convolution2D\n",
    "from keras.layers import MaxPool2D\n",
    "from keras.layers import Flatten\n",
    "from keras.layers import Dense"
   ]
  },
  {
   "cell_type": "code",
   "execution_count": 15,
   "id": "8e020c1c",
   "metadata": {},
   "outputs": [],
   "source": [
    "# Initializing the Convolutional Neural Network"
   ]
  },
  {
   "cell_type": "code",
   "execution_count": 16,
   "id": "2fff8cc7",
   "metadata": {},
   "outputs": [],
   "source": [
    "classifier = Sequential()"
   ]
  },
  {
   "cell_type": "markdown",
   "id": "4cfe1d78",
   "metadata": {},
   "source": [
    "# MODEL"
   ]
  },
  {
   "cell_type": "code",
   "execution_count": 17,
   "id": "8492de9e",
   "metadata": {},
   "outputs": [],
   "source": [
    "# STEP 1 Convolution\n",
    "# Adding th e first layer of CNN\n",
    "# We are using the format (64,64,3) because we are using Tensorflow backend\n",
    "# It means 3 matrix of size (64x64) pixels representing Red, Green and Blue components of pixels"
   ]
  },
  {
   "cell_type": "code",
   "execution_count": 18,
   "id": "32963cf9",
   "metadata": {},
   "outputs": [],
   "source": [
    "classifier.add(Convolution2D(32, kernel_size=(3,3),\n",
    "                            input_shape=(64,64,3), activation ='relu'))"
   ]
  },
  {
   "cell_type": "code",
   "execution_count": 19,
   "id": "d839be54",
   "metadata": {},
   "outputs": [],
   "source": [
    "#STEP 2- Max Pooling"
   ]
  },
  {
   "cell_type": "code",
   "execution_count": 20,
   "id": "89846aab",
   "metadata": {},
   "outputs": [],
   "source": [
    "classifier.add(MaxPool2D(pool_size=(2,2)))"
   ]
  },
  {
   "cell_type": "code",
   "execution_count": 21,
   "id": "2b18d1c4",
   "metadata": {},
   "outputs": [],
   "source": [
    "# Additional layer of convolution for better accuracy"
   ]
  },
  {
   "cell_type": "code",
   "execution_count": 22,
   "id": "1170bde1",
   "metadata": {},
   "outputs": [],
   "source": [
    "classifier.add(Convolution2D(64, kernel_size=(3,3), activation='relu'))"
   ]
  },
  {
   "cell_type": "code",
   "execution_count": 23,
   "id": "26797a27",
   "metadata": {},
   "outputs": [],
   "source": [
    "classifier.add(MaxPool2D(pool_size=(2,2)))"
   ]
  },
  {
   "cell_type": "code",
   "execution_count": 24,
   "id": "31e1c251",
   "metadata": {},
   "outputs": [],
   "source": [
    "#STEP 3- Flattening"
   ]
  },
  {
   "cell_type": "code",
   "execution_count": 25,
   "id": "abef6142",
   "metadata": {},
   "outputs": [],
   "source": [
    "classifier.add(Flatten())"
   ]
  },
  {
   "cell_type": "code",
   "execution_count": 26,
   "id": "d2e9867d",
   "metadata": {},
   "outputs": [],
   "source": [
    "#STEP 4 - Fully connected neural network"
   ]
  },
  {
   "cell_type": "code",
   "execution_count": 27,
   "id": "5bc26754",
   "metadata": {},
   "outputs": [],
   "source": [
    "classifier.add(Dense(64, activation='relu'))"
   ]
  },
  {
   "cell_type": "code",
   "execution_count": 28,
   "id": "ab05d9c6",
   "metadata": {},
   "outputs": [],
   "source": [
    "classifier.add(Dense(25, activation='softmax'))"
   ]
  },
  {
   "cell_type": "code",
   "execution_count": 29,
   "id": "1521fca7",
   "metadata": {},
   "outputs": [
    {
     "name": "stdout",
     "output_type": "stream",
     "text": [
      "Model: \"sequential\"\n",
      "_________________________________________________________________\n",
      " Layer (type)                Output Shape              Param #   \n",
      "=================================================================\n",
      " conv2d (Conv2D)             (None, 62, 62, 32)        896       \n",
      "                                                                 \n",
      " max_pooling2d (MaxPooling2D  (None, 31, 31, 32)       0         \n",
      " )                                                               \n",
      "                                                                 \n",
      " conv2d_1 (Conv2D)           (None, 29, 29, 64)        18496     \n",
      "                                                                 \n",
      " max_pooling2d_1 (MaxPooling  (None, 14, 14, 64)       0         \n",
      " 2D)                                                             \n",
      "                                                                 \n",
      " flatten (Flatten)           (None, 12544)             0         \n",
      "                                                                 \n",
      " dense (Dense)               (None, 64)                802880    \n",
      "                                                                 \n",
      " dense_1 (Dense)             (None, 25)                1625      \n",
      "                                                                 \n",
      "=================================================================\n",
      "Total params: 823,897\n",
      "Trainable params: 823,897\n",
      "Non-trainable params: 0\n",
      "_________________________________________________________________\n"
     ]
    }
   ],
   "source": [
    "classifier.summary()"
   ]
  },
  {
   "cell_type": "markdown",
   "id": "aa3726de",
   "metadata": {},
   "source": [
    "# Compiler"
   ]
  },
  {
   "cell_type": "code",
   "execution_count": 30,
   "id": "b7cdf085",
   "metadata": {},
   "outputs": [],
   "source": [
    "# Compiling the CNN"
   ]
  },
  {
   "cell_type": "code",
   "execution_count": 31,
   "id": "21641481",
   "metadata": {},
   "outputs": [],
   "source": [
    "classifier.compile(loss='categorical_crossentropy',\n",
    "                  optimizer = 'adam', metrics =['accuracy'])"
   ]
  },
  {
   "cell_type": "markdown",
   "id": "e1a12966",
   "metadata": {},
   "source": [
    "# Execution of model"
   ]
  },
  {
   "cell_type": "code",
   "execution_count": 32,
   "id": "36a06941",
   "metadata": {},
   "outputs": [],
   "source": [
    "# Starting the model training"
   ]
  },
  {
   "cell_type": "code",
   "execution_count": 33,
   "id": "48f4fa72",
   "metadata": {},
   "outputs": [
    {
     "name": "stderr",
     "output_type": "stream",
     "text": [
      "C:\\Users\\hp\\AppData\\Local\\Temp\\ipykernel_6312\\2354014473.py:1: UserWarning: `Model.fit_generator` is deprecated and will be removed in a future version. Please use `Model.fit`, which supports generators.\n",
      "  history = classifier.fit_generator(training_set, epochs =20,\n"
     ]
    },
    {
     "name": "stdout",
     "output_type": "stream",
     "text": [
      "Epoch 1/20\n",
      "10/10 [==============================] - 16s 2s/step - loss: 3.3248 - accuracy: 0.0650 - val_loss: 3.1025 - val_accuracy: 0.2200\n",
      "Epoch 2/20\n",
      "10/10 [==============================] - 14s 1s/step - loss: 2.9174 - accuracy: 0.2000 - val_loss: 2.6817 - val_accuracy: 0.3000\n",
      "Epoch 3/20\n",
      "10/10 [==============================] - 13s 1s/step - loss: 2.3667 - accuracy: 0.3400 - val_loss: 2.2381 - val_accuracy: 0.4400\n",
      "Epoch 4/20\n",
      "10/10 [==============================] - 14s 1s/step - loss: 1.6925 - accuracy: 0.5600 - val_loss: 1.7814 - val_accuracy: 0.5200\n",
      "Epoch 5/20\n",
      "10/10 [==============================] - 14s 1s/step - loss: 0.9684 - accuracy: 0.8150 - val_loss: 1.4530 - val_accuracy: 0.6200\n",
      "Epoch 6/20\n",
      "10/10 [==============================] - 14s 1s/step - loss: 0.5760 - accuracy: 0.8450 - val_loss: 1.1531 - val_accuracy: 0.6800\n",
      "Epoch 7/20\n",
      "10/10 [==============================] - 14s 1s/step - loss: 0.3475 - accuracy: 0.9400 - val_loss: 1.0155 - val_accuracy: 0.6800\n",
      "Epoch 8/20\n",
      "10/10 [==============================] - 14s 1s/step - loss: 0.1572 - accuracy: 0.9700 - val_loss: 1.0753 - val_accuracy: 0.7000\n",
      "Epoch 9/20\n",
      "10/10 [==============================] - 14s 1s/step - loss: 0.0842 - accuracy: 0.9850 - val_loss: 0.9312 - val_accuracy: 0.6800\n",
      "Epoch 10/20\n",
      "10/10 [==============================] - 14s 1s/step - loss: 0.0501 - accuracy: 0.9900 - val_loss: 1.0164 - val_accuracy: 0.6800\n",
      "Epoch 11/20\n",
      "10/10 [==============================] - 14s 1s/step - loss: 0.0269 - accuracy: 0.9950 - val_loss: 0.9571 - val_accuracy: 0.6800\n",
      "Epoch 12/20\n",
      "10/10 [==============================] - 14s 1s/step - loss: 0.0122 - accuracy: 1.0000 - val_loss: 0.9199 - val_accuracy: 0.7000\n",
      "Epoch 13/20\n",
      "10/10 [==============================] - 14s 1s/step - loss: 0.0090 - accuracy: 1.0000 - val_loss: 0.9161 - val_accuracy: 0.6800\n",
      "Epoch 14/20\n",
      "10/10 [==============================] - 14s 1s/step - loss: 0.0056 - accuracy: 1.0000 - val_loss: 0.9964 - val_accuracy: 0.7000\n",
      "Epoch 15/20\n",
      "10/10 [==============================] - 14s 1s/step - loss: 0.0045 - accuracy: 1.0000 - val_loss: 0.9858 - val_accuracy: 0.6800\n",
      "Epoch 16/20\n",
      "10/10 [==============================] - 14s 1s/step - loss: 0.0036 - accuracy: 1.0000 - val_loss: 0.9799 - val_accuracy: 0.6800\n",
      "Epoch 17/20\n",
      "10/10 [==============================] - 14s 1s/step - loss: 0.0030 - accuracy: 1.0000 - val_loss: 0.9895 - val_accuracy: 0.7000\n",
      "Epoch 18/20\n",
      "10/10 [==============================] - 14s 1s/step - loss: 0.0027 - accuracy: 1.0000 - val_loss: 1.0057 - val_accuracy: 0.7000\n",
      "Epoch 19/20\n",
      "10/10 [==============================] - 14s 1s/step - loss: 0.0025 - accuracy: 1.0000 - val_loss: 1.0264 - val_accuracy: 0.7200\n",
      "Epoch 20/20\n",
      "10/10 [==============================] - 14s 1s/step - loss: 0.0022 - accuracy: 1.0000 - val_loss: 1.0340 - val_accuracy: 0.7000\n"
     ]
    }
   ],
   "source": [
    "history = classifier.fit_generator(training_set, epochs =20,\n",
    "                                  validation_data=validation_set)"
   ]
  },
  {
   "cell_type": "markdown",
   "id": "a667778a",
   "metadata": {},
   "source": [
    "# Accuracy base model"
   ]
  },
  {
   "cell_type": "code",
   "execution_count": 34,
   "id": "da29d502",
   "metadata": {},
   "outputs": [],
   "source": [
    "#Displaying curves of loss and accuracy during training"
   ]
  },
  {
   "cell_type": "code",
   "execution_count": 35,
   "id": "6a3b388c",
   "metadata": {},
   "outputs": [],
   "source": [
    "import matplotlib.pyplot as plt"
   ]
  },
  {
   "cell_type": "code",
   "execution_count": 36,
   "id": "a2f54536",
   "metadata": {},
   "outputs": [],
   "source": [
    "acc = history.history['accuracy']"
   ]
  },
  {
   "cell_type": "code",
   "execution_count": 37,
   "id": "4d3c58b8",
   "metadata": {},
   "outputs": [],
   "source": [
    "val_acc = history.history['val_accuracy']"
   ]
  },
  {
   "cell_type": "code",
   "execution_count": 38,
   "id": "c4eade01",
   "metadata": {},
   "outputs": [],
   "source": [
    "loss = history.history['loss']"
   ]
  },
  {
   "cell_type": "code",
   "execution_count": 39,
   "id": "e04e4857",
   "metadata": {},
   "outputs": [],
   "source": [
    "val_loss = history.history['val_loss']"
   ]
  },
  {
   "cell_type": "code",
   "execution_count": 40,
   "id": "30d0b84f",
   "metadata": {},
   "outputs": [],
   "source": [
    "epochs = range(1, len(acc) + 1)"
   ]
  },
  {
   "cell_type": "code",
   "execution_count": 41,
   "id": "7002cc49",
   "metadata": {},
   "outputs": [
    {
     "data": {
      "text/plain": [
       "<Figure size 432x288 with 0 Axes>"
      ]
     },
     "execution_count": 41,
     "metadata": {},
     "output_type": "execute_result"
    },
    {
     "data": {
      "image/png": "[encoded data removed]",
      "text/plain": [
       "<Figure size 432x288 with 1 Axes>"
      ]
     },
     "metadata": {
      "needs_background": "light"
     },
     "output_type": "display_data"
    },
    {
     "data": {
      "text/plain": [
       "<Figure size 432x288 with 0 Axes>"
      ]
     },
     "metadata": {},
     "output_type": "display_data"
    }
   ],
   "source": [
    "plt.plot(epochs, acc, 'bo', label='Training acc')\n",
    "plt.plot(epochs, val_acc, 'r', label='Validation acc')\n",
    "plt.title('Training and validation accuracy')\n",
    "plt.legend()\n",
    "plt.figure()"
   ]
  },
  {
   "cell_type": "markdown",
   "id": "e204e892",
   "metadata": {},
   "source": [
    "# Loss base model"
   ]
  },
  {
   "cell_type": "code",
   "execution_count": 42,
   "id": "11e1d8e3",
   "metadata": {},
   "outputs": [
    {
     "data": {
      "text/plain": [
       "<Figure size 432x288 with 0 Axes>"
      ]
     },
     "execution_count": 42,
     "metadata": {},
     "output_type": "execute_result"
    },
    {
     "data": {
      "image/png": "[encoded data removed]",
      "text/plain": [
       "<Figure size 432x288 with 1 Axes>"
      ]
     },
     "metadata": {
      "needs_background": "light"
     },
     "output_type": "display_data"
    },
    {
     "data": {
      "text/plain": [
       "<Figure size 432x288 with 0 Axes>"
      ]
     },
     "metadata": {},
     "output_type": "display_data"
    }
   ],
   "source": [
    "plt.plot(epochs, loss, 'bo', label='Training loss')\n",
    "plt.plot(epochs, val_loss, 'r', label='Validation loss')\n",
    "plt.title('Training and validation loss')\n",
    "plt.legend()\n",
    "plt.figure()"
   ]
  },
  {
   "cell_type": "code",
   "execution_count": 43,
   "id": "e42e2f8e",
   "metadata": {},
   "outputs": [],
   "source": [
    "# Lets improve"
   ]
  },
  {
   "cell_type": "code",
   "execution_count": 44,
   "id": "938e7633",
   "metadata": {},
   "outputs": [],
   "source": [
    "# Model 2"
   ]
  },
  {
   "cell_type": "code",
   "execution_count": 45,
   "id": "d36a13e2",
   "metadata": {},
   "outputs": [],
   "source": [
    "# Adding parameters in the ImageDatagenerator"
   ]
  },
  {
   "cell_type": "code",
   "execution_count": 46,
   "id": "b327fbe6",
   "metadata": {},
   "outputs": [],
   "source": [
    "train_datagen = ImageDataGenerator(rescale=1./225, shear_range=0.5,\n",
    "                                  zoom_range=0.5, width_shift_range=0.2,\n",
    "                                  height_shift_range=0.2)"
   ]
  },
  {
   "cell_type": "code",
   "execution_count": 47,
   "id": "1cc4e1de",
   "metadata": {},
   "outputs": [],
   "source": [
    "# No transformations are done on the testing images"
   ]
  },
  {
   "cell_type": "code",
   "execution_count": 48,
   "id": "c95e3a4b",
   "metadata": {},
   "outputs": [],
   "source": [
    "test_datgen = ImageDataGenerator(rescale=1./225)"
   ]
  },
  {
   "cell_type": "code",
   "execution_count": 49,
   "id": "7a842909",
   "metadata": {},
   "outputs": [],
   "source": [
    "# Generating the training data"
   ]
  },
  {
   "cell_type": "code",
   "execution_count": 50,
   "id": "e4eec759",
   "metadata": {},
   "outputs": [
    {
     "name": "stdout",
     "output_type": "stream",
     "text": [
      "Found 200 images belonging to 25 classes.\n"
     ]
    }
   ],
   "source": [
    "training_set = train_datagen.flow_from_directory(TrainingImagePath,\n",
    "                                                target_size=(64,64),\n",
    "                                                batch_size=20,\n",
    "                                                class_mode='categorical')"
   ]
  },
  {
   "cell_type": "code",
   "execution_count": 51,
   "id": "31d3f981",
   "metadata": {},
   "outputs": [],
   "source": [
    "# Generating the validation data"
   ]
  },
  {
   "cell_type": "code",
   "execution_count": 52,
   "id": "2ac9a009",
   "metadata": {},
   "outputs": [
    {
     "name": "stdout",
     "output_type": "stream",
     "text": [
      "Found 50 images belonging to 25 classes.\n"
     ]
    }
   ],
   "source": [
    "validation_set = test_datagen.flow_from_directory(validationImagePath,\n",
    "                                                target_size=(64,64),\n",
    "                                                batch_size=20,\n",
    "                                                class_mode='categorical')"
   ]
  },
  {
   "cell_type": "code",
   "execution_count": 53,
   "id": "419ed527",
   "metadata": {},
   "outputs": [],
   "source": [
    "#Create Cnn deep learning model"
   ]
  },
  {
   "cell_type": "code",
   "execution_count": 54,
   "id": "dd2270d6",
   "metadata": {},
   "outputs": [],
   "source": [
    "from keras.models import Sequential\n",
    "from keras.layers import Convolution2D\n",
    "from keras.layers import MaxPool2D\n",
    "from keras.layers import Flatten\n",
    "from keras.layers import Dense"
   ]
  },
  {
   "cell_type": "code",
   "execution_count": 55,
   "id": "e7991c5a",
   "metadata": {},
   "outputs": [],
   "source": [
    "# Initializing the Convolutional Neural Network"
   ]
  },
  {
   "cell_type": "code",
   "execution_count": 56,
   "id": "b35b1bd3",
   "metadata": {},
   "outputs": [],
   "source": [
    "classifier = Sequential()"
   ]
  },
  {
   "cell_type": "code",
   "execution_count": 57,
   "id": "675de677",
   "metadata": {},
   "outputs": [],
   "source": [
    "# Convolution"
   ]
  },
  {
   "cell_type": "code",
   "execution_count": 58,
   "id": "41ea7190",
   "metadata": {},
   "outputs": [],
   "source": [
    "classifier.add(Convolution2D(32, kernel_size=(3,3),\n",
    "                            input_shape=(64,64,3), activation ='relu'))"
   ]
  },
  {
   "cell_type": "code",
   "execution_count": 59,
   "id": "67ccb2d7",
   "metadata": {},
   "outputs": [],
   "source": [
    "#Max Pooling"
   ]
  },
  {
   "cell_type": "code",
   "execution_count": 60,
   "id": "4274ae60",
   "metadata": {},
   "outputs": [],
   "source": [
    "classifier.add(MaxPool2D(pool_size=(2,2)))"
   ]
  },
  {
   "cell_type": "code",
   "execution_count": 61,
   "id": "09ee17bb",
   "metadata": {},
   "outputs": [],
   "source": [
    "# Additional layer of convolution for better accuracy"
   ]
  },
  {
   "cell_type": "code",
   "execution_count": 62,
   "id": "59700aaf",
   "metadata": {},
   "outputs": [],
   "source": [
    "classifier.add(Convolution2D(64, kernel_size=(3,3), activation='relu'))"
   ]
  },
  {
   "cell_type": "code",
   "execution_count": 63,
   "id": "6a26d79a",
   "metadata": {},
   "outputs": [],
   "source": [
    "classifier.add(MaxPool2D(pool_size=(2,2)))"
   ]
  },
  {
   "cell_type": "code",
   "execution_count": 64,
   "id": "63e421f6",
   "metadata": {},
   "outputs": [],
   "source": [
    "#Flattening"
   ]
  },
  {
   "cell_type": "code",
   "execution_count": 65,
   "id": "ee3eb2d6",
   "metadata": {},
   "outputs": [],
   "source": [
    "classifier.add(Flatten())"
   ]
  },
  {
   "cell_type": "code",
   "execution_count": 66,
   "id": "521c5572",
   "metadata": {},
   "outputs": [],
   "source": [
    "#Fully connected neural network"
   ]
  },
  {
   "cell_type": "code",
   "execution_count": 67,
   "id": "4b484240",
   "metadata": {},
   "outputs": [],
   "source": [
    "classifier.add(Dense(64, activation='relu'))#hidden layer"
   ]
  },
  {
   "cell_type": "code",
   "execution_count": 75,
   "id": "9c0df7bb",
   "metadata": {},
   "outputs": [],
   "source": [
    "classifier.add(Dense(25, activation='softmax'))#output layer"
   ]
  },
  {
   "cell_type": "code",
   "execution_count": 76,
   "id": "2a29ce4b",
   "metadata": {},
   "outputs": [
    {
     "name": "stdout",
     "output_type": "stream",
     "text": [
      "Model: \"sequential_1\"\n",
      "_________________________________________________________________\n",
      " Layer (type)                Output Shape              Param #   \n",
      "=================================================================\n",
      " conv2d_2 (Conv2D)           (None, 62, 62, 32)        896       \n",
      "                                                                 \n",
      " max_pooling2d_2 (MaxPooling  (None, 31, 31, 32)       0         \n",
      " 2D)                                                             \n",
      "                                                                 \n",
      " conv2d_3 (Conv2D)           (None, 29, 29, 64)        18496     \n",
      "                                                                 \n",
      " max_pooling2d_3 (MaxPooling  (None, 14, 14, 64)       0         \n",
      " 2D)                                                             \n",
      "                                                                 \n",
      " flatten_1 (Flatten)         (None, 12544)             0         \n",
      "                                                                 \n",
      " dense_2 (Dense)             (None, 64)                802880    \n",
      "                                                                 \n",
      " dense_3 (Dense)             (None, 11)                715       \n",
      "                                                                 \n",
      " dense_4 (Dense)             (None, 25)                300       \n",
      "                                                                 \n",
      "=================================================================\n",
      "Total params: 823,287\n",
      "Trainable params: 823,287\n",
      "Non-trainable params: 0\n",
      "_________________________________________________________________\n"
     ]
    }
   ],
   "source": [
    "classifier.summary()"
   ]
  },
  {
   "cell_type": "code",
   "execution_count": 77,
   "id": "10684d06",
   "metadata": {},
   "outputs": [],
   "source": [
    "#Compiler"
   ]
  },
  {
   "cell_type": "code",
   "execution_count": 78,
   "id": "cc589088",
   "metadata": {},
   "outputs": [],
   "source": [
    "classifier.compile(loss='categorical_crossentropy',\n",
    "                  optimizer='adam', metrics=['accuracy'])"
   ]
  },
  {
   "cell_type": "code",
   "execution_count": 79,
   "id": "74654438",
   "metadata": {},
   "outputs": [],
   "source": [
    "#Execute"
   ]
  },
  {
   "cell_type": "code",
   "execution_count": 80,
   "id": "e2cf2a98",
   "metadata": {},
   "outputs": [],
   "source": [
    "#Starting the model training"
   ]
  },
  {
   "cell_type": "code",
   "execution_count": 81,
   "id": "76babdab",
   "metadata": {},
   "outputs": [
    {
     "name": "stderr",
     "output_type": "stream",
     "text": [
      "C:\\Users\\hp\\AppData\\Local\\Temp\\ipykernel_6312\\346272482.py:1: UserWarning: `Model.fit_generator` is deprecated and will be removed in a future version. Please use `Model.fit`, which supports generators.\n",
      "  history = classifier.fit_generator(training_set, epochs =100,\n"
     ]
    },
    {
     "name": "stdout",
     "output_type": "stream",
     "text": [
      "Epoch 1/100\n",
      "10/10 [==============================] - 18s 2s/step - loss: 3.2419 - accuracy: 0.0250 - val_loss: 3.2217 - val_accuracy: 0.0800\n",
      "Epoch 2/100\n",
      "10/10 [==============================] - 15s 2s/step - loss: 3.2209 - accuracy: 0.0700 - val_loss: 3.2151 - val_accuracy: 0.0400\n",
      "Epoch 3/100\n",
      "10/10 [==============================] - 14s 1s/step - loss: 3.2157 - accuracy: 0.0550 - val_loss: 3.2063 - val_accuracy: 0.0200\n",
      "Epoch 4/100\n",
      "10/10 [==============================] - 14s 1s/step - loss: 3.2072 - accuracy: 0.0700 - val_loss: 3.1959 - val_accuracy: 0.0800\n",
      "Epoch 5/100\n",
      "10/10 [==============================] - 14s 1s/step - loss: 3.1948 - accuracy: 0.0700 - val_loss: 3.1659 - val_accuracy: 0.0400\n",
      "Epoch 6/100\n",
      "10/10 [==============================] - 15s 2s/step - loss: 3.1782 - accuracy: 0.0400 - val_loss: 3.2146 - val_accuracy: 0.0000e+00\n",
      "Epoch 7/100\n",
      "10/10 [==============================] - 14s 1s/step - loss: 3.1814 - accuracy: 0.0550 - val_loss: 3.1583 - val_accuracy: 0.0400\n",
      "Epoch 8/100\n",
      "10/10 [==============================] - 14s 1s/step - loss: 3.1608 - accuracy: 0.1100 - val_loss: 3.1294 - val_accuracy: 0.0400\n",
      "Epoch 9/100\n",
      "10/10 [==============================] - 14s 1s/step - loss: 3.1332 - accuracy: 0.0950 - val_loss: 3.0819 - val_accuracy: 0.1200\n",
      "Epoch 10/100\n",
      "10/10 [==============================] - 14s 1s/step - loss: 3.1157 - accuracy: 0.1200 - val_loss: 3.0899 - val_accuracy: 0.1400\n",
      "Epoch 11/100\n",
      "10/10 [==============================] - 15s 1s/step - loss: 3.1025 - accuracy: 0.1450 - val_loss: 3.0426 - val_accuracy: 0.2000\n",
      "Epoch 12/100\n",
      "10/10 [==============================] - 14s 1s/step - loss: 3.0900 - accuracy: 0.1400 - val_loss: 3.0280 - val_accuracy: 0.1400\n",
      "Epoch 13/100\n",
      "10/10 [==============================] - 14s 1s/step - loss: 3.0818 - accuracy: 0.1450 - val_loss: 3.0085 - val_accuracy: 0.2200\n",
      "Epoch 14/100\n",
      "10/10 [==============================] - 14s 1s/step - loss: 3.0759 - accuracy: 0.1100 - val_loss: 3.0342 - val_accuracy: 0.1600\n",
      "Epoch 15/100\n",
      "10/10 [==============================] - 14s 1s/step - loss: 3.0670 - accuracy: 0.1450 - val_loss: 3.0041 - val_accuracy: 0.2000\n",
      "Epoch 16/100\n",
      "10/10 [==============================] - 14s 1s/step - loss: 3.0359 - accuracy: 0.1300 - val_loss: 3.0102 - val_accuracy: 0.1600\n",
      "Epoch 17/100\n",
      "10/10 [==============================] - 14s 1s/step - loss: 3.0163 - accuracy: 0.1700 - val_loss: 2.9870 - val_accuracy: 0.1800\n",
      "Epoch 18/100\n",
      "10/10 [==============================] - 14s 1s/step - loss: 3.0326 - accuracy: 0.1550 - val_loss: 2.9911 - val_accuracy: 0.2000\n",
      "Epoch 19/100\n",
      "10/10 [==============================] - 14s 1s/step - loss: 3.0175 - accuracy: 0.1600 - val_loss: 2.9675 - val_accuracy: 0.1800\n",
      "Epoch 20/100\n",
      "10/10 [==============================] - 14s 1s/step - loss: 3.0230 - accuracy: 0.1550 - val_loss: 2.9692 - val_accuracy: 0.1600\n",
      "Epoch 21/100\n",
      "10/10 [==============================] - 14s 1s/step - loss: 3.0079 - accuracy: 0.1350 - val_loss: 3.0158 - val_accuracy: 0.1200\n",
      "Epoch 22/100\n",
      "10/10 [==============================] - 14s 1s/step - loss: 2.9986 - accuracy: 0.1550 - val_loss: 2.9355 - val_accuracy: 0.1800\n",
      "Epoch 23/100\n",
      "10/10 [==============================] - 14s 1s/step - loss: 3.0114 - accuracy: 0.1350 - val_loss: 2.9615 - val_accuracy: 0.2000\n",
      "Epoch 24/100\n",
      "10/10 [==============================] - 14s 1s/step - loss: 2.9881 - accuracy: 0.1500 - val_loss: 2.9437 - val_accuracy: 0.1800\n",
      "Epoch 25/100\n",
      "10/10 [==============================] - 14s 1s/step - loss: 2.9969 - accuracy: 0.1650 - val_loss: 2.9306 - val_accuracy: 0.1800\n",
      "Epoch 26/100\n",
      "10/10 [==============================] - 14s 1s/step - loss: 2.9862 - accuracy: 0.1500 - val_loss: 2.9265 - val_accuracy: 0.1800\n",
      "Epoch 27/100\n",
      "10/10 [==============================] - 14s 1s/step - loss: 2.9820 - accuracy: 0.1600 - val_loss: 2.8953 - val_accuracy: 0.2000\n",
      "Epoch 28/100\n",
      "10/10 [==============================] - 14s 1s/step - loss: 2.9622 - accuracy: 0.2000 - val_loss: 2.8965 - val_accuracy: 0.1800\n",
      "Epoch 29/100\n",
      "10/10 [==============================] - 14s 1s/step - loss: 2.9353 - accuracy: 0.1800 - val_loss: 2.8957 - val_accuracy: 0.2200\n",
      "Epoch 30/100\n",
      "10/10 [==============================] - 388s 43s/step - loss: 2.9388 - accuracy: 0.1650 - val_loss: 2.9212 - val_accuracy: 0.1600\n",
      "Epoch 31/100\n",
      "10/10 [==============================] - 13s 1s/step - loss: 2.9287 - accuracy: 0.1650 - val_loss: 2.8966 - val_accuracy: 0.2200\n",
      "Epoch 32/100\n",
      "10/10 [==============================] - 14s 1s/step - loss: 2.9361 - accuracy: 0.1700 - val_loss: 2.8982 - val_accuracy: 0.1400\n",
      "Epoch 33/100\n",
      "10/10 [==============================] - 14s 1s/step - loss: 2.9180 - accuracy: 0.1700 - val_loss: 2.9059 - val_accuracy: 0.1200\n",
      "Epoch 34/100\n",
      "10/10 [==============================] - 14s 1s/step - loss: 2.9185 - accuracy: 0.1850 - val_loss: 2.8742 - val_accuracy: 0.1800\n",
      "Epoch 35/100\n",
      "10/10 [==============================] - 15s 2s/step - loss: 2.8896 - accuracy: 0.1900 - val_loss: 2.8818 - val_accuracy: 0.1800\n",
      "Epoch 36/100\n",
      "10/10 [==============================] - 14s 1s/step - loss: 2.9057 - accuracy: 0.1500 - val_loss: 2.8880 - val_accuracy: 0.1600\n",
      "Epoch 37/100\n",
      "10/10 [==============================] - 14s 1s/step - loss: 2.9078 - accuracy: 0.1800 - val_loss: 2.8629 - val_accuracy: 0.1800\n",
      "Epoch 38/100\n",
      "10/10 [==============================] - 14s 1s/step - loss: 2.8831 - accuracy: 0.2050 - val_loss: 2.8460 - val_accuracy: 0.1600\n",
      "Epoch 39/100\n",
      "10/10 [==============================] - 14s 1s/step - loss: 2.8559 - accuracy: 0.1800 - val_loss: 2.9138 - val_accuracy: 0.1400\n",
      "Epoch 40/100\n",
      "10/10 [==============================] - 14s 1s/step - loss: 2.8693 - accuracy: 0.1500 - val_loss: 2.8155 - val_accuracy: 0.1800\n",
      "Epoch 41/100\n",
      "10/10 [==============================] - 14s 1s/step - loss: 2.9028 - accuracy: 0.1500 - val_loss: 2.8359 - val_accuracy: 0.1800\n",
      "Epoch 42/100\n",
      "10/10 [==============================] - 14s 1s/step - loss: 2.8791 - accuracy: 0.1800 - val_loss: 2.8409 - val_accuracy: 0.2000\n",
      "Epoch 43/100\n",
      "10/10 [==============================] - 14s 1s/step - loss: 2.8811 - accuracy: 0.1700 - val_loss: 2.8251 - val_accuracy: 0.2400\n",
      "Epoch 44/100\n",
      "10/10 [==============================] - 14s 1s/step - loss: 2.8577 - accuracy: 0.1850 - val_loss: 2.7956 - val_accuracy: 0.2200\n",
      "Epoch 45/100\n",
      "10/10 [==============================] - 14s 1s/step - loss: 2.8591 - accuracy: 0.1800 - val_loss: 2.8003 - val_accuracy: 0.1600\n",
      "Epoch 46/100\n",
      "10/10 [==============================] - 14s 1s/step - loss: 2.8250 - accuracy: 0.2150 - val_loss: 2.7943 - val_accuracy: 0.2000\n",
      "Epoch 47/100\n",
      "10/10 [==============================] - 15s 1s/step - loss: 2.8166 - accuracy: 0.1900 - val_loss: 2.7885 - val_accuracy: 0.2400\n",
      "Epoch 48/100\n",
      "10/10 [==============================] - 14s 1s/step - loss: 2.8387 - accuracy: 0.1450 - val_loss: 2.8321 - val_accuracy: 0.1600\n",
      "Epoch 49/100\n",
      "10/10 [==============================] - 15s 1s/step - loss: 2.8367 - accuracy: 0.1800 - val_loss: 2.8119 - val_accuracy: 0.2000\n",
      "Epoch 50/100\n",
      "10/10 [==============================] - 14s 1s/step - loss: 2.8172 - accuracy: 0.1800 - val_loss: 2.7699 - val_accuracy: 0.1800\n",
      "Epoch 51/100\n",
      "10/10 [==============================] - 14s 1s/step - loss: 2.8083 - accuracy: 0.1800 - val_loss: 2.8001 - val_accuracy: 0.2400\n",
      "Epoch 52/100\n",
      "10/10 [==============================] - 14s 1s/step - loss: 2.8384 - accuracy: 0.1600 - val_loss: 2.7526 - val_accuracy: 0.1800\n",
      "Epoch 53/100\n",
      "10/10 [==============================] - 14s 1s/step - loss: 2.8102 - accuracy: 0.2000 - val_loss: 2.7960 - val_accuracy: 0.2000\n",
      "Epoch 54/100\n",
      "10/10 [==============================] - 15s 2s/step - loss: 2.7865 - accuracy: 0.1950 - val_loss: 2.7448 - val_accuracy: 0.2400\n",
      "Epoch 55/100\n",
      "10/10 [==============================] - 14s 1s/step - loss: 2.7812 - accuracy: 0.2250 - val_loss: 2.8004 - val_accuracy: 0.2000\n",
      "Epoch 56/100\n",
      "10/10 [==============================] - 14s 1s/step - loss: 2.7858 - accuracy: 0.2400 - val_loss: 2.7692 - val_accuracy: 0.2400\n",
      "Epoch 57/100\n",
      "10/10 [==============================] - 14s 1s/step - loss: 2.7784 - accuracy: 0.2200 - val_loss: 2.7394 - val_accuracy: 0.2600\n",
      "Epoch 58/100\n",
      "10/10 [==============================] - 14s 1s/step - loss: 2.7509 - accuracy: 0.2250 - val_loss: 2.7440 - val_accuracy: 0.2600\n",
      "Epoch 59/100\n",
      "10/10 [==============================] - 14s 1s/step - loss: 2.7841 - accuracy: 0.2100 - val_loss: 2.7225 - val_accuracy: 0.2200\n",
      "Epoch 60/100\n",
      "10/10 [==============================] - 14s 1s/step - loss: 2.7778 - accuracy: 0.1800 - val_loss: 2.7776 - val_accuracy: 0.2000\n",
      "Epoch 61/100\n",
      "10/10 [==============================] - 14s 1s/step - loss: 2.7456 - accuracy: 0.2050 - val_loss: 2.7035 - val_accuracy: 0.2400\n",
      "Epoch 62/100\n",
      "10/10 [==============================] - 14s 1s/step - loss: 2.7774 - accuracy: 0.2050 - val_loss: 2.7353 - val_accuracy: 0.2000\n",
      "Epoch 63/100\n",
      "10/10 [==============================] - 15s 2s/step - loss: 2.7482 - accuracy: 0.2100 - val_loss: 2.7401 - val_accuracy: 0.2200\n",
      "Epoch 64/100\n",
      "10/10 [==============================] - 14s 1s/step - loss: 2.7610 - accuracy: 0.2550 - val_loss: 2.7166 - val_accuracy: 0.2400\n",
      "Epoch 65/100\n",
      "10/10 [==============================] - 14s 1s/step - loss: 2.7364 - accuracy: 0.2350 - val_loss: 2.6650 - val_accuracy: 0.2400\n",
      "Epoch 66/100\n",
      "10/10 [==============================] - 14s 1s/step - loss: 2.7050 - accuracy: 0.2200 - val_loss: 2.7169 - val_accuracy: 0.2600\n",
      "Epoch 67/100\n",
      "10/10 [==============================] - 14s 1s/step - loss: 2.7342 - accuracy: 0.2350 - val_loss: 2.6572 - val_accuracy: 0.2600\n",
      "Epoch 68/100\n",
      "10/10 [==============================] - 14s 1s/step - loss: 2.7203 - accuracy: 0.2300 - val_loss: 2.6802 - val_accuracy: 0.2200\n",
      "Epoch 69/100\n",
      "10/10 [==============================] - 14s 1s/step - loss: 2.7131 - accuracy: 0.1850 - val_loss: 2.6965 - val_accuracy: 0.2200\n",
      "Epoch 70/100\n",
      "10/10 [==============================] - 14s 1s/step - loss: 2.7116 - accuracy: 0.2550 - val_loss: 2.6442 - val_accuracy: 0.2800\n",
      "Epoch 71/100\n",
      "10/10 [==============================] - 14s 1s/step - loss: 2.6913 - accuracy: 0.2350 - val_loss: 2.6833 - val_accuracy: 0.2800\n",
      "Epoch 72/100\n",
      "10/10 [==============================] - 15s 1s/step - loss: 2.7007 - accuracy: 0.2100 - val_loss: 2.6896 - val_accuracy: 0.2600\n",
      "Epoch 73/100\n",
      "10/10 [==============================] - 14s 1s/step - loss: 2.6718 - accuracy: 0.2550 - val_loss: 2.6085 - val_accuracy: 0.3200\n",
      "Epoch 74/100\n",
      "10/10 [==============================] - 14s 1s/step - loss: 2.6500 - accuracy: 0.2800 - val_loss: 2.6641 - val_accuracy: 0.3000\n",
      "Epoch 75/100\n",
      "10/10 [==============================] - 14s 1s/step - loss: 2.6819 - accuracy: 0.2150 - val_loss: 2.5893 - val_accuracy: 0.3200\n",
      "Epoch 76/100\n",
      "10/10 [==============================] - 14s 1s/step - loss: 2.6402 - accuracy: 0.2450 - val_loss: 2.6421 - val_accuracy: 0.2400\n",
      "Epoch 77/100\n",
      "10/10 [==============================] - 15s 2s/step - loss: 2.6482 - accuracy: 0.2750 - val_loss: 2.6621 - val_accuracy: 0.2800\n",
      "Epoch 78/100\n",
      "10/10 [==============================] - 14s 1s/step - loss: 2.6369 - accuracy: 0.2500 - val_loss: 2.5807 - val_accuracy: 0.2400\n",
      "Epoch 79/100\n",
      "10/10 [==============================] - 14s 1s/step - loss: 2.6266 - accuracy: 0.2600 - val_loss: 2.6361 - val_accuracy: 0.2600\n",
      "Epoch 80/100\n",
      "10/10 [==============================] - 14s 1s/step - loss: 2.6382 - accuracy: 0.2800 - val_loss: 2.6763 - val_accuracy: 0.2000\n",
      "Epoch 81/100\n",
      "10/10 [==============================] - 14s 1s/step - loss: 2.6591 - accuracy: 0.2700 - val_loss: 2.5914 - val_accuracy: 0.2600\n",
      "Epoch 82/100\n",
      "10/10 [==============================] - 15s 1s/step - loss: 2.6372 - accuracy: 0.2450 - val_loss: 2.6043 - val_accuracy: 0.2400\n",
      "Epoch 83/100\n",
      "10/10 [==============================] - 14s 1s/step - loss: 2.6519 - accuracy: 0.2400 - val_loss: 2.5546 - val_accuracy: 0.2600\n",
      "Epoch 84/100\n",
      "10/10 [==============================] - 14s 1s/step - loss: 2.6006 - accuracy: 0.2550 - val_loss: 2.5593 - val_accuracy: 0.2800\n",
      "Epoch 85/100\n",
      "10/10 [==============================] - 14s 1s/step - loss: 2.6063 - accuracy: 0.2100 - val_loss: 2.5665 - val_accuracy: 0.3000\n",
      "Epoch 86/100\n",
      "10/10 [==============================] - 14s 1s/step - loss: 2.5745 - accuracy: 0.2700 - val_loss: 2.5538 - val_accuracy: 0.2400\n",
      "Epoch 87/100\n",
      "10/10 [==============================] - 14s 1s/step - loss: 2.6254 - accuracy: 0.2450 - val_loss: 2.5307 - val_accuracy: 0.2800\n",
      "Epoch 88/100\n",
      "10/10 [==============================] - 14s 1s/step - loss: 2.6107 - accuracy: 0.2500 - val_loss: 2.5774 - val_accuracy: 0.2800\n",
      "Epoch 89/100\n",
      "10/10 [==============================] - 14s 1s/step - loss: 2.6249 - accuracy: 0.2200 - val_loss: 2.5519 - val_accuracy: 0.2800\n",
      "Epoch 90/100\n",
      "10/10 [==============================] - 14s 1s/step - loss: 2.5820 - accuracy: 0.2600 - val_loss: 2.5055 - val_accuracy: 0.2600\n",
      "Epoch 91/100\n",
      "10/10 [==============================] - 14s 1s/step - loss: 2.6346 - accuracy: 0.2350 - val_loss: 2.5620 - val_accuracy: 0.3000\n",
      "Epoch 92/100\n",
      "10/10 [==============================] - 14s 1s/step - loss: 2.5631 - accuracy: 0.2700 - val_loss: 2.5347 - val_accuracy: 0.2800\n",
      "Epoch 93/100\n",
      "10/10 [==============================] - 14s 1s/step - loss: 2.5868 - accuracy: 0.2350 - val_loss: 2.5263 - val_accuracy: 0.3000\n",
      "Epoch 94/100\n",
      "10/10 [==============================] - 15s 1s/step - loss: 2.5780 - accuracy: 0.2300 - val_loss: 2.5702 - val_accuracy: 0.2800\n",
      "Epoch 95/100\n",
      "10/10 [==============================] - 14s 1s/step - loss: 2.6058 - accuracy: 0.2450 - val_loss: 2.5474 - val_accuracy: 0.2200\n",
      "Epoch 96/100\n",
      "10/10 [==============================] - 14s 1s/step - loss: 2.5246 - accuracy: 0.2750 - val_loss: 2.5195 - val_accuracy: 0.2400\n",
      "Epoch 97/100\n",
      "10/10 [==============================] - 14s 1s/step - loss: 2.5230 - accuracy: 0.2600 - val_loss: 2.5212 - val_accuracy: 0.2400\n",
      "Epoch 98/100\n",
      "10/10 [==============================] - 15s 2s/step - loss: 2.5577 - accuracy: 0.2450 - val_loss: 2.5630 - val_accuracy: 0.2400\n",
      "Epoch 99/100\n",
      "10/10 [==============================] - 14s 1s/step - loss: 2.5070 - accuracy: 0.2750 - val_loss: 2.5468 - val_accuracy: 0.2200\n",
      "Epoch 100/100\n",
      "10/10 [==============================] - 14s 1s/step - loss: 2.5241 - accuracy: 0.2750 - val_loss: 2.5263 - val_accuracy: 0.2600\n"
     ]
    }
   ],
   "source": [
    "history = classifier.fit_generator(training_set, epochs =100,\n",
    "                                  validation_data=validation_set)"
   ]
  },
  {
   "cell_type": "code",
   "execution_count": 82,
   "id": "5c14f6a1",
   "metadata": {},
   "outputs": [],
   "source": [
    "#Displaying curves of loss and accuracy during training"
   ]
  },
  {
   "cell_type": "code",
   "execution_count": 83,
   "id": "b208c4af",
   "metadata": {},
   "outputs": [],
   "source": [
    "import matplotlib.pyplot as plt"
   ]
  },
  {
   "cell_type": "code",
   "execution_count": 84,
   "id": "661ff31e",
   "metadata": {},
   "outputs": [],
   "source": [
    "acc = history.history['accuracy']"
   ]
  },
  {
   "cell_type": "code",
   "execution_count": 85,
   "id": "fee6cad0",
   "metadata": {},
   "outputs": [],
   "source": [
    "val_acc = history.history['val_accuracy']"
   ]
  },
  {
   "cell_type": "code",
   "execution_count": 86,
   "id": "b81a782b",
   "metadata": {},
   "outputs": [],
   "source": [
    "loss = history.history['loss']"
   ]
  },
  {
   "cell_type": "code",
   "execution_count": 87,
   "id": "32a8ec9e",
   "metadata": {},
   "outputs": [],
   "source": [
    "val_loss = history.history['val_loss']"
   ]
  },
  {
   "cell_type": "code",
   "execution_count": 88,
   "id": "18374cbe",
   "metadata": {},
   "outputs": [],
   "source": [
    "epochs = range(1, len(acc) + 1)"
   ]
  },
  {
   "cell_type": "code",
   "execution_count": 89,
   "id": "9e1bc8ea",
   "metadata": {},
   "outputs": [
    {
     "data": {
      "text/plain": [
       "<Figure size 432x288 with 0 Axes>"
      ]
     },
     "execution_count": 89,
     "metadata": {},
     "output_type": "execute_result"
    },
    {
     "data": {
      "image/png": "[encoded data removed]",
      "text/plain": [
       "<Figure size 432x288 with 1 Axes>"
      ]
     },
     "metadata": {
      "needs_background": "light"
     },
     "output_type": "display_data"
    },
    {
     "data": {
      "text/plain": [
       "<Figure size 432x288 with 0 Axes>"
      ]
     },
     "metadata": {},
     "output_type": "display_data"
    }
   ],
   "source": [
    "plt.plot(epochs, acc, 'bo', label='Training acc')\n",
    "plt.plot(epochs, val_acc, 'g', label='Validation acc')\n",
    "plt.title('Training and validation accuracy')\n",
    "plt.legend()\n",
    "plt.figure()"
   ]
  },
  {
   "cell_type": "code",
   "execution_count": 90,
   "id": "b9a1412f",
   "metadata": {},
   "outputs": [
    {
     "data": {
      "text/plain": [
       "<Figure size 432x288 with 0 Axes>"
      ]
     },
     "execution_count": 90,
     "metadata": {},
     "output_type": "execute_result"
    },
    {
     "data": {
      "image/png": "[encoded data removed]",
      "text/plain": [
       "<Figure size 432x288 with 1 Axes>"
      ]
     },
     "metadata": {
      "needs_background": "light"
     },
     "output_type": "display_data"
    },
    {
     "data": {
      "text/plain": [
       "<Figure size 432x288 with 0 Axes>"
      ]
     },
     "metadata": {},
     "output_type": "display_data"
    }
   ],
   "source": [
    "plt.plot(epochs, loss, 'bo', label='Training loss')\n",
    "plt.plot(epochs, val_loss, 'g', label='Validation loss')\n",
    "plt.title('Training and validation loss')\n",
    "plt.legend()\n",
    "plt.figure()"
   ]
  },
  {
   "cell_type": "code",
   "execution_count": null,
   "id": "3ec302f7",
   "metadata": {},
   "outputs": [],
   "source": [
    " "
   ]
  },
  {
   "cell_type": "code",
   "execution_count": null,
   "id": "16f07878",
   "metadata": {},
   "outputs": [],
   "source": []
  }
 ],
 "metadata": {
  "kernelspec": {
   "display_name": "Python 3 (ipykernel)",
   "language": "python",
   "name": "python3"
  },
  "language_info": {
   "codemirror_mode": {
    "name": "ipython",
    "version": 3
   },
   "file_extension": ".py",
   "mimetype": "text/x-python",
   "name": "python",
   "nbconvert_exporter": "python",
   "pygments_lexer": "ipython3",
   "version": "3.9.12"
  }
 },
 "nbformat": 4,
 "nbformat_minor": 5
}
